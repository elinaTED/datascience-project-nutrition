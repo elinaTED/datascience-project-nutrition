{
 "cells": [
  {
   "cell_type": "code",
   "execution_count": 1,
   "metadata": {},
   "outputs": [],
   "source": [
    "from selenium import webdriver\n",
    "from webdriver_manager.chrome import ChromeDriverManager\n",
    "from sqlite3 import connect\n",
    "import pandas as pd"
   ]
  },
  {
   "cell_type": "code",
   "execution_count": 2,
   "metadata": {},
   "outputs": [],
   "source": [
    "# Гуглим список основных витаминов\n",
    "list_of_vitamins = [\n",
    "'Biotin (vitamin B7)',\n",
    "'Folic acid (folate, vitamin B9)',\n",
    "'Niacin (vitamin B3)',\n",
    "'Vitamin B5',\n",
    "'Riboflavin (vitamin B2)',\n",
    "'Thiamin (vitamin B1)',\n",
    "'Vitamin B6',\n",
    "'Vitamin B12',\n",
    "'Vitamin C',\n",
    "'Vitamin A',\n",
    "'Vitamin D',\n",
    "'Vitamin E',\n",
    "'Calcium',\n",
    "'Magnesium',\n",
    "'Phosphorus',\n",
    "'Potassium',\n",
    "'Copper',\n",
    "'Iodine',\n",
    "'Iron',\n",
    "'Manganese',\n",
    "'Molybdenum',\n",
    "'Selenium']"
   ]
  },
  {
   "cell_type": "code",
   "execution_count": 3,
   "metadata": {},
   "outputs": [
    {
     "data": {
      "text/plain": [
       "<sqlite3.Cursor at 0x11998d5e0>"
      ]
     },
     "execution_count": 3,
     "metadata": {},
     "output_type": "execute_result"
    }
   ],
   "source": [
    "conn = connect(\"minerals.db\")\n",
    "c = conn.cursor()\n",
    "\n",
    "c.execute(\"\"\"\n",
    "CREATE TABLE min_info (mineral, cause1, cause2, how, get1, get2, get3)\n",
    "\"\"\")"
   ]
  },
  {
   "cell_type": "code",
   "execution_count": 4,
   "metadata": {},
   "outputs": [
    {
     "name": "stderr",
     "output_type": "stream",
     "text": [
      "[WDM] - Current google-chrome version 83.0.4103\n",
      "[WDM] - Trying to download new driver from http://chromedriver.storage.googleapis.com/83.0.4103.39/chromedriver_mac64.zip\n"
     ]
    },
    {
     "name": "stdout",
     "output_type": "stream",
     "text": [
      " \n"
     ]
    },
    {
     "name": "stderr",
     "output_type": "stream",
     "text": [
      "[WDM] - Unpack archive /Users/user/.wdm/drivers/chromedriver/83.0.4103.39/mac64/chromedriver.zip\n"
     ]
    }
   ],
   "source": [
    "# Тут мы используем selenium, чтобы получить ответы на вопросы \n",
    "# \"Зачем мне нужен витамин\" – why1 и why2\n",
    "# (но иногда написана только одна причина, поэтому нам нужна парочка if-ов)\n",
    "# \"Где мы можем найти витамин?\" - where (в общих словах) и\n",
    "# food1, food2, food3 - три примера еды\n",
    "# Из-за того, что на сайте нет стандартного вида страницы, а у параграфов нет\n",
    "# особого класса, нам приходится использовать if-ы\n",
    "driver = webdriver.Chrome(ChromeDriverManager().install())\n",
    "driver.get('https://ods.od.nih.gov')\n",
    "for vitamin in list_of_vitamins:\n",
    "    conn = connect(\"minerals.db\")\n",
    "    c = conn.cursor()\n",
    "    search_button = driver.find_element_by_class_name(\"txt_search\")\n",
    "    search_button.click()\n",
    "    search_button.send_keys(vitamin)\n",
    "    google_search = driver.find_element_by_class_name(\"btn_search\")\n",
    "    google_search.click()\n",
    "    links = driver.find_elements_by_class_name('recommend_title')\n",
    "#     Нам нужна именно ссылка, которая содержит 'Consumer Fact Sheet', потому что\n",
    "#     они имеют примерно одинаковое строение\n",
    "    for i in links:\n",
    "        if 'Consumer Fact Sheet' in i.text:\n",
    "            link_to_mineral = i.find_element_by_css_selector('a').get_attribute('href') \n",
    "    driver.find_element_by_xpath(f\"//a[@href='{link_to_mineral}']\").click()\n",
    "    pars = driver.find_elements_by_css_selector('p')\n",
    "    points = driver.find_elements_by_css_selector('li')\n",
    "    if 'The amount' in pars[5].text:\n",
    "        why1 = pars[3].text\n",
    "        why2 = pars[4].text\n",
    "        food1 = points[72].text\n",
    "        food2 = points[73].text\n",
    "        food3 = points[74].text\n",
    "        where = pars[6].text\n",
    "    elif 'How much' in pars[5].text:\n",
    "        why1 = pars[3].text\n",
    "        why2 = pars[4].text\n",
    "        food1 = points[72].text\n",
    "        food2 = points[73].text\n",
    "        food3 = points[74].text\n",
    "        where = pars[6].text\n",
    "    else:\n",
    "        why1 = pars[4].text\n",
    "        why2 = pars[5].text\n",
    "        food1 = points[72].text\n",
    "        food2 = points[73].text\n",
    "        food3 = points[74].text\n",
    "        where = pars[7].text\n",
    "    \n",
    "    if vitamin == 'Vitamin D':\n",
    "        food1 = points[72].text\n",
    "        food2 = points[73].text\n",
    "        food3 = points[74].text\n",
    "        \n",
    "    if vitamin == 'Riboflavin (vitamin B2)':\n",
    "        why1=''\n",
    "        \n",
    "    if vitamin == 'Vitamin B5':\n",
    "        where = pars[7].text\n",
    "    \n",
    "    if vitamin == 'Vitamin C':\n",
    "        where = pars[8].text\n",
    "        \n",
    "    if vitamin == 'Niacin (vitamin B3)':\n",
    "        where = pars[7].text\n",
    "        \n",
    "    if vitamin == 'Folic acid (folate, vitamin B9)':\n",
    "        where = pars[8].text\n",
    "\n",
    "    info_list=[vitamin, why1, why2, where, food1,food2,food3]\n",
    "    c.execute('''\n",
    "    INSERT INTO min_info (mineral, cause1, cause2, how, get1, get2, get3) VALUES (?, ?, ?, ?, ?, ?, ?)\n",
    "    ''', tuple(info_list))\n",
    "    conn.commit()"
   ]
  }
 ],
 "metadata": {
  "kernelspec": {
   "display_name": "Python 3",
   "language": "python",
   "name": "python3"
  },
  "language_info": {
   "codemirror_mode": {
    "name": "ipython",
    "version": 3
   },
   "file_extension": ".py",
   "mimetype": "text/x-python",
   "name": "python",
   "nbconvert_exporter": "python",
   "pygments_lexer": "ipython3",
   "version": "3.7.4"
  }
 },
 "nbformat": 4,
 "nbformat_minor": 2
}
